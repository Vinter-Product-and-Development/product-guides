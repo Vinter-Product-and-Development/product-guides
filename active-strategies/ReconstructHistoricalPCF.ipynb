{
 "cells": [
  {
   "cell_type": "code",
   "execution_count": null,
   "metadata": {},
   "outputs": [],
   "source": [
    "# Step 1 Install Needed Dependencies and Define Constants\n",
    "\n",
    "# Dependencies\n",
    "!pip3 install pandas\n",
    "!pip3 install openpyxl\n",
    "!pip3 install requests\n",
    "import requests\n",
    "import pandas as pd\n",
    "import io\n",
    "import json\n",
    "\n",
    "# Constants\n",
    "USERNAME = '<YOUR_USERNAME>'\n",
    "PASSWORD = '<YOUR_PASSWORD>'\n",
    "TOKEN_URL='https://identity.vinter.co/authenticate/login'\n",
    "SYMBOL_LONG='vnfa-weti-15-d'\n",
    "RECORD_LIMIT=50\n",
    "SYMBOL_SHORT='WETI'\n",
    "LIST_FILES_URL=f'https://identity.vinter.co/organization/files/{SYMBOL_SHORT}'\n"
   ]
  },
  {
   "cell_type": "code",
   "execution_count": null,
   "metadata": {},
   "outputs": [],
   "source": [
    "# Step 2: Use the username and password to get an access token that will be used to read PCF information.\n",
    "\n",
    "def get_access_token():\n",
    "  formdata = {\n",
    "      \"username\": USERNAME,\n",
    "      \"password\": PASSWORD\n",
    "  }\n",
    "  headers = {\n",
    "      \"Content-Type\": \"application/x-www-form-urlencoded\"\n",
    "  }\n",
    "  response = requests.post(TOKEN_URL, data=formdata, headers=headers)\n",
    "  response_json = response.json()\n",
    "  return response_json['access_token']\n",
    "\n",
    "token = get_access_token()\n",
    "\n",
    "print(\"Your access token is: \" + token)\n",
    "\n",
    "# Define the headers that will be used to make requests to the PCF API.\n",
    "headers = {\n",
    "  \"authorization\": f\"Bearer {token}\"\n",
    "}"
   ]
  },
  {
   "cell_type": "code",
   "execution_count": null,
   "metadata": {},
   "outputs": [],
   "source": [
    "# Step 3: Get a List of Your Organization Files\n",
    "\n",
    "def get_organization_files():\n",
    "  response = requests.get(LIST_FILES_URL, headers=headers)\n",
    "  return response.json()\n",
    "  \n",
    "files = get_organization_files()\n",
    "\n",
    "# filter out files whose 'folder' is not 'pcf'\n",
    "files = [file for file in files if file['folder'] == 'pcf']\n",
    "print(f\"Got {len(files)} files for {SYMBOL_SHORT}.\")"
   ]
  },
  {
   "cell_type": "code",
   "execution_count": null,
   "metadata": {},
   "outputs": [],
   "source": [
    "# Define a map for storing aggregate data\n",
    "aggregate_data = {}\n",
    "\n",
    "# Go through the files one by one\n",
    "count = 0\n",
    "for file in files:\n",
    "  count += 1\n",
    "  print(f\"Processing file {count}/{len(files)}\")\n",
    "  GET_FILE_PRESIGNED_URL=f'https://identity.vinter.co/organization/files/{SYMBOL_SHORT}/pcf/{file[\"label\"]}/{file[\"name\"]}'\n",
    "  url = requests.get(GET_FILE_PRESIGNED_URL, headers=headers).json()\n",
    "  xls_data = requests.get(url).content\n",
    "  bytes_io_wrapped = io.BytesIO(xls_data)\n",
    "\n",
    "  df = pd.read_excel(\n",
    "    bytes_io_wrapped, \n",
    "    engine='openpyxl',\n",
    "    sheet_name='Portfolio Composition'\n",
    "  )\n",
    "\n",
    "  # Save Price USD, Ticker, Amount, Symbol, Current Weight to the map\n",
    "  aggregate_data[file[\"label\"]] = json.loads(df[['Price USD', 'Ticker', 'Amount', 'Current Weight']].to_json(orient='records'))"
   ]
  },
  {
   "cell_type": "code",
   "execution_count": null,
   "metadata": {},
   "outputs": [],
   "source": [
    "# Save the aggregate data as a convenient json file\n",
    "\n",
    "SAVED_FILE_PATH = f'{SYMBOL_SHORT}_aggregate_data.json'\n",
    "\n",
    "with open(SAVED_FILE_PATH, 'w') as f:\n",
    "  f.write(json.dumps(aggregate_data, indent=2))\n",
    "\n",
    "print(\"Your aggregate data has been saved to: \" + SAVED_FILE_PATH)"
   ]
  }
 ],
 "metadata": {
  "kernelspec": {
   "display_name": "Python 3",
   "language": "python",
   "name": "python3"
  },
  "language_info": {
   "codemirror_mode": {
    "name": "ipython",
    "version": 3
   },
   "file_extension": ".py",
   "mimetype": "text/x-python",
   "name": "python",
   "nbconvert_exporter": "python",
   "pygments_lexer": "ipython3",
   "version": "3.10.7"
  }
 },
 "nbformat": 4,
 "nbformat_minor": 2
}
