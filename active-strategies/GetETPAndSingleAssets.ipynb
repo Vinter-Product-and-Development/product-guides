{
 "cells": [
  {
   "cell_type": "markdown",
   "metadata": {},
   "source": [
    "The following is a guide to aggregating historical information for both actively managed strategies and underyling assets on the Vinter platform."
   ]
  },
  {
   "cell_type": "code",
   "execution_count": null,
   "metadata": {},
   "outputs": [],
   "source": [
    "# Step 1: Import dependencies and set up the environment\n",
    "# version: Python 3.10.7\n",
    "\n",
    "!pip3 install pandas\n",
    "import urllib.parse\n",
    "import urllib.request\n",
    "import pandas as pd\n",
    "from urllib import request\n",
    "from json import loads\n",
    "from os import environ\n",
    "\n",
    "USERNAME = '<YOUR_USERNAME>'\n",
    "PASSWORD = '<YOUR_PASSWORD>'\n",
    "API_KEY = '<YOUR_API_KEY>'\n",
    "TOKEN_URL='https://identity.vinter.co/authenticate/login'\n",
    "ETP_URL='https://etp.vinter.co'\n",
    "SINGLE_ASSET_URL='https://www.vinterapi.com/api/v3/single_assets_daily'\n",
    "SYMBOL_SHORT='<SYMBOL_SHORT, EG WETI>'\n",
    "SYMBOL_LONG='<SYMBOL LONG, EG vnfa-weti-15-d>'"
   ]
  },
  {
   "cell_type": "code",
   "execution_count": null,
   "metadata": {},
   "outputs": [],
   "source": [
    "# Step 2: Use the username and password to get an access token that will be used to read PCF information.\n",
    "\n",
    "def get_access_token():\n",
    "  # url = TOKEN_URL\n",
    "  formdata = {\n",
    "      \"username\": USERNAME,\n",
    "      \"password\": PASSWORD\n",
    "  }\n",
    "  headers = {\n",
    "      \"Content-Type\": \"application/x-www-form-urlencoded\"\n",
    "  }\n",
    "  data = urllib.parse.urlencode(formdata).encode()\n",
    "  req = urllib.request.Request(TOKEN_URL, headers=headers, data=data)\n",
    "  with urllib.request.urlopen(req) as response:\n",
    "    intermediate_json_value = response.read().decode()\n",
    "    decoded = loads(intermediate_json_value)\n",
    "\n",
    "    token = decoded['access_token']\n",
    "    return token\n",
    "\n",
    "token = get_access_token()"
   ]
  },
  {
   "cell_type": "code",
   "execution_count": null,
   "metadata": {},
   "outputs": [],
   "source": [
    "# Step 3: Use the token to get the PCF information\n",
    "# import urllib.request\n",
    "\n",
    "def get_pcf_info():\n",
    "  url = f\"{ETP_URL}/api/v1/nav/ticker/{SYMBOL_SHORT}\"\n",
    "  headers = {\n",
    "    \"Content-Type\": \"application/json\",\n",
    "    \"Authorization\": f\"Bearer {token}\"\n",
    "  }\n",
    "  req = request.Request(url, headers=headers)\n",
    "  with request.urlopen(req) as response:\n",
    "    intermediate_json_value = loads(response.read().decode())\n",
    "    return intermediate_json_value\n",
    "\n",
    "pcf_info = get_pcf_info()\n",
    "print(pcf_info)\n",
    "print(\"Index Info:\")\n",
    "print(\"Full Name:\" + pcf_info['full_name'])\n",
    "print(\"Outstanding shares:\" + str(pcf_info['outstanding_shares']))\n",
    "print(\"ID\" + str(pcf_info['id']))\n",
    "\n",
    "def index_data_to_constituents(data):\n",
    "  pcf = data[\"pcf\"]\n",
    "  # map pcf to [ticker, amount]\n",
    "\n",
    "  mapped =  map(lambda x: [x['ticker'], x['amount']], pcf)\n",
    "  return list(mapped)\n",
    "\n",
    "constituents = index_data_to_constituents(pcf_info)\n",
    "print(\"Listing constituents:\")\n",
    "for c in constituents:\n",
    "  print(c[0] + \"//\" + str(c[1]))\n"
   ]
  },
  {
   "cell_type": "code",
   "execution_count": null,
   "metadata": {},
   "outputs": [],
   "source": [
    "# Finally, let's gather historical data for the indexes\n",
    "\n",
    "headers = {\n",
    "  \"authorization\": API_KEY\n",
    "}\n",
    "\n",
    "for (ticker, amount) in constituents:\n",
    "  ticker_long = f\"{ticker.lower()}-usd-p-d\" # for accessing the reference rate relative to USD\n",
    "  if (ticker == \"USD\"):\n",
    "    # for this computation, we will skip USD, since the rate of USD to USD is always 1\n",
    "    continue\n",
    "  if (ticker == \"EUR\"):\n",
    "    ticker_long = \"usd-eur-p-d\"\n",
    "  url = f\"{SINGLE_ASSET_URL}?symbol={ticker_long}&limit=200\"\n",
    "  print(url)\n",
    "  req = request.Request(url, headers=headers)\n",
    "  try:\n",
    "    with request.urlopen(req) as response:\n",
    "      intermediate_json_value = loads(response.read().decode())\n",
    "      df = pd.DataFrame(intermediate_json_value['data'])\n",
    "      print(f\"Data for {ticker}\")\n",
    "      print(df.tail())\n",
    "      # print(intermediate_json_value)\n",
    "  except Exception as e:\n",
    "    print(e)\n",
    "    print(\"Error getting data for \" + ticker)\n",
    "    continue"
   ]
  }
 ],
 "metadata": {
  "kernelspec": {
   "display_name": "Python 3",
   "language": "python",
   "name": "python3"
  },
  "language_info": {
   "codemirror_mode": {
    "name": "ipython",
    "version": 3
   },
   "file_extension": ".py",
   "mimetype": "text/x-python",
   "name": "python",
   "nbconvert_exporter": "python",
   "pygments_lexer": "ipython3",
   "version": "3.10.7"
  }
 },
 "nbformat": 4,
 "nbformat_minor": 2
}
